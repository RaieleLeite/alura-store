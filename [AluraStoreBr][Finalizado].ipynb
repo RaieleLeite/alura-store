{
  "nbformat": 4,
  "nbformat_minor": 0,
  "metadata": {
    "colab": {
      "provenance": [],
      "collapsed_sections": [
        "RhEdWd9YUR6H"
      ]
    },
    "kernelspec": {
      "name": "python3",
      "display_name": "Python 3"
    },
    "language_info": {
      "name": "python"
    }
  },
  "cells": [
    {
      "cell_type": "markdown",
      "source": [
        "### Importação dos dados\n",
        "\n"
      ],
      "metadata": {
        "id": "RhEdWd9YUR6H"
      }
    },
    {
      "cell_type": "code",
      "execution_count": 2,
      "metadata": {
        "colab": {
          "base_uri": "https://localhost:8080/",
          "height": 0
        },
        "id": "T3EvaeQ_INIL",
        "outputId": "0a42e736-b485-4be9-9d1f-9a2e732439a2"
      },
      "outputs": [
        {
          "output_type": "execute_result",
          "data": {
            "text/plain": [
              "                 Produto Categoria do Produto    Preço      Frete  \\\n",
              "0     Assistente virtual          eletronicos   219.08   9.249790   \n",
              "1         Mesa de jantar               moveis   256.35  11.234305   \n",
              "2      Jogo de tabuleiro           brinquedos   279.51  21.262681   \n",
              "3            Micro-ondas     eletrodomesticos  1009.99  54.667344   \n",
              "4  Cadeira de escritório               moveis   446.99  26.964689   \n",
              "\n",
              "  Data da Compra        Vendedor Local da compra  Avaliação da compra  \\\n",
              "0     16/01/2021     Pedro Gomes              SP                    4   \n",
              "1     18/05/2022  Beatriz Moraes              RJ                    1   \n",
              "2     15/03/2021      João Souza              DF                    1   \n",
              "3     03/05/2022      João Souza              RS                    4   \n",
              "4     07/11/2020   Larissa Alves              MG                    5   \n",
              "\n",
              "  Tipo de pagamento  Quantidade de parcelas    lat    lon  \n",
              "0    cartao_credito                       8 -22.19 -48.79  \n",
              "1    cartao_credito                       4 -22.25 -42.66  \n",
              "2    cartao_credito                       1 -15.83 -47.86  \n",
              "3            boleto                       1 -30.17 -53.50  \n",
              "4            boleto                       1 -18.10 -44.38  "
            ],
            "text/html": [
              "\n",
              "  <div id=\"df-8a19ac56-1815-426a-8fb8-9e3db76003f9\" class=\"colab-df-container\">\n",
              "    <div>\n",
              "<style scoped>\n",
              "    .dataframe tbody tr th:only-of-type {\n",
              "        vertical-align: middle;\n",
              "    }\n",
              "\n",
              "    .dataframe tbody tr th {\n",
              "        vertical-align: top;\n",
              "    }\n",
              "\n",
              "    .dataframe thead th {\n",
              "        text-align: right;\n",
              "    }\n",
              "</style>\n",
              "<table border=\"1\" class=\"dataframe\">\n",
              "  <thead>\n",
              "    <tr style=\"text-align: right;\">\n",
              "      <th></th>\n",
              "      <th>Produto</th>\n",
              "      <th>Categoria do Produto</th>\n",
              "      <th>Preço</th>\n",
              "      <th>Frete</th>\n",
              "      <th>Data da Compra</th>\n",
              "      <th>Vendedor</th>\n",
              "      <th>Local da compra</th>\n",
              "      <th>Avaliação da compra</th>\n",
              "      <th>Tipo de pagamento</th>\n",
              "      <th>Quantidade de parcelas</th>\n",
              "      <th>lat</th>\n",
              "      <th>lon</th>\n",
              "    </tr>\n",
              "  </thead>\n",
              "  <tbody>\n",
              "    <tr>\n",
              "      <th>0</th>\n",
              "      <td>Assistente virtual</td>\n",
              "      <td>eletronicos</td>\n",
              "      <td>219.08</td>\n",
              "      <td>9.249790</td>\n",
              "      <td>16/01/2021</td>\n",
              "      <td>Pedro Gomes</td>\n",
              "      <td>SP</td>\n",
              "      <td>4</td>\n",
              "      <td>cartao_credito</td>\n",
              "      <td>8</td>\n",
              "      <td>-22.19</td>\n",
              "      <td>-48.79</td>\n",
              "    </tr>\n",
              "    <tr>\n",
              "      <th>1</th>\n",
              "      <td>Mesa de jantar</td>\n",
              "      <td>moveis</td>\n",
              "      <td>256.35</td>\n",
              "      <td>11.234305</td>\n",
              "      <td>18/05/2022</td>\n",
              "      <td>Beatriz Moraes</td>\n",
              "      <td>RJ</td>\n",
              "      <td>1</td>\n",
              "      <td>cartao_credito</td>\n",
              "      <td>4</td>\n",
              "      <td>-22.25</td>\n",
              "      <td>-42.66</td>\n",
              "    </tr>\n",
              "    <tr>\n",
              "      <th>2</th>\n",
              "      <td>Jogo de tabuleiro</td>\n",
              "      <td>brinquedos</td>\n",
              "      <td>279.51</td>\n",
              "      <td>21.262681</td>\n",
              "      <td>15/03/2021</td>\n",
              "      <td>João Souza</td>\n",
              "      <td>DF</td>\n",
              "      <td>1</td>\n",
              "      <td>cartao_credito</td>\n",
              "      <td>1</td>\n",
              "      <td>-15.83</td>\n",
              "      <td>-47.86</td>\n",
              "    </tr>\n",
              "    <tr>\n",
              "      <th>3</th>\n",
              "      <td>Micro-ondas</td>\n",
              "      <td>eletrodomesticos</td>\n",
              "      <td>1009.99</td>\n",
              "      <td>54.667344</td>\n",
              "      <td>03/05/2022</td>\n",
              "      <td>João Souza</td>\n",
              "      <td>RS</td>\n",
              "      <td>4</td>\n",
              "      <td>boleto</td>\n",
              "      <td>1</td>\n",
              "      <td>-30.17</td>\n",
              "      <td>-53.50</td>\n",
              "    </tr>\n",
              "    <tr>\n",
              "      <th>4</th>\n",
              "      <td>Cadeira de escritório</td>\n",
              "      <td>moveis</td>\n",
              "      <td>446.99</td>\n",
              "      <td>26.964689</td>\n",
              "      <td>07/11/2020</td>\n",
              "      <td>Larissa Alves</td>\n",
              "      <td>MG</td>\n",
              "      <td>5</td>\n",
              "      <td>boleto</td>\n",
              "      <td>1</td>\n",
              "      <td>-18.10</td>\n",
              "      <td>-44.38</td>\n",
              "    </tr>\n",
              "  </tbody>\n",
              "</table>\n",
              "</div>\n",
              "    <div class=\"colab-df-buttons\">\n",
              "\n",
              "  <div class=\"colab-df-container\">\n",
              "    <button class=\"colab-df-convert\" onclick=\"convertToInteractive('df-8a19ac56-1815-426a-8fb8-9e3db76003f9')\"\n",
              "            title=\"Convert this dataframe to an interactive table.\"\n",
              "            style=\"display:none;\">\n",
              "\n",
              "  <svg xmlns=\"http://www.w3.org/2000/svg\" height=\"24px\" viewBox=\"0 -960 960 960\">\n",
              "    <path d=\"M120-120v-720h720v720H120Zm60-500h600v-160H180v160Zm220 220h160v-160H400v160Zm0 220h160v-160H400v160ZM180-400h160v-160H180v160Zm440 0h160v-160H620v160ZM180-180h160v-160H180v160Zm440 0h160v-160H620v160Z\"/>\n",
              "  </svg>\n",
              "    </button>\n",
              "\n",
              "  <style>\n",
              "    .colab-df-container {\n",
              "      display:flex;\n",
              "      gap: 12px;\n",
              "    }\n",
              "\n",
              "    .colab-df-convert {\n",
              "      background-color: #E8F0FE;\n",
              "      border: none;\n",
              "      border-radius: 50%;\n",
              "      cursor: pointer;\n",
              "      display: none;\n",
              "      fill: #1967D2;\n",
              "      height: 32px;\n",
              "      padding: 0 0 0 0;\n",
              "      width: 32px;\n",
              "    }\n",
              "\n",
              "    .colab-df-convert:hover {\n",
              "      background-color: #E2EBFA;\n",
              "      box-shadow: 0px 1px 2px rgba(60, 64, 67, 0.3), 0px 1px 3px 1px rgba(60, 64, 67, 0.15);\n",
              "      fill: #174EA6;\n",
              "    }\n",
              "\n",
              "    .colab-df-buttons div {\n",
              "      margin-bottom: 4px;\n",
              "    }\n",
              "\n",
              "    [theme=dark] .colab-df-convert {\n",
              "      background-color: #3B4455;\n",
              "      fill: #D2E3FC;\n",
              "    }\n",
              "\n",
              "    [theme=dark] .colab-df-convert:hover {\n",
              "      background-color: #434B5C;\n",
              "      box-shadow: 0px 1px 3px 1px rgba(0, 0, 0, 0.15);\n",
              "      filter: drop-shadow(0px 1px 2px rgba(0, 0, 0, 0.3));\n",
              "      fill: #FFFFFF;\n",
              "    }\n",
              "  </style>\n",
              "\n",
              "    <script>\n",
              "      const buttonEl =\n",
              "        document.querySelector('#df-8a19ac56-1815-426a-8fb8-9e3db76003f9 button.colab-df-convert');\n",
              "      buttonEl.style.display =\n",
              "        google.colab.kernel.accessAllowed ? 'block' : 'none';\n",
              "\n",
              "      async function convertToInteractive(key) {\n",
              "        const element = document.querySelector('#df-8a19ac56-1815-426a-8fb8-9e3db76003f9');\n",
              "        const dataTable =\n",
              "          await google.colab.kernel.invokeFunction('convertToInteractive',\n",
              "                                                    [key], {});\n",
              "        if (!dataTable) return;\n",
              "\n",
              "        const docLinkHtml = 'Like what you see? Visit the ' +\n",
              "          '<a target=\"_blank\" href=https://colab.research.google.com/notebooks/data_table.ipynb>data table notebook</a>'\n",
              "          + ' to learn more about interactive tables.';\n",
              "        element.innerHTML = '';\n",
              "        dataTable['output_type'] = 'display_data';\n",
              "        await google.colab.output.renderOutput(dataTable, element);\n",
              "        const docLink = document.createElement('div');\n",
              "        docLink.innerHTML = docLinkHtml;\n",
              "        element.appendChild(docLink);\n",
              "      }\n",
              "    </script>\n",
              "  </div>\n",
              "\n",
              "\n",
              "    <div id=\"df-380872e6-9950-470f-94c3-47a10437c16f\">\n",
              "      <button class=\"colab-df-quickchart\" onclick=\"quickchart('df-380872e6-9950-470f-94c3-47a10437c16f')\"\n",
              "                title=\"Suggest charts\"\n",
              "                style=\"display:none;\">\n",
              "\n",
              "<svg xmlns=\"http://www.w3.org/2000/svg\" height=\"24px\"viewBox=\"0 0 24 24\"\n",
              "     width=\"24px\">\n",
              "    <g>\n",
              "        <path d=\"M19 3H5c-1.1 0-2 .9-2 2v14c0 1.1.9 2 2 2h14c1.1 0 2-.9 2-2V5c0-1.1-.9-2-2-2zM9 17H7v-7h2v7zm4 0h-2V7h2v10zm4 0h-2v-4h2v4z\"/>\n",
              "    </g>\n",
              "</svg>\n",
              "      </button>\n",
              "\n",
              "<style>\n",
              "  .colab-df-quickchart {\n",
              "      --bg-color: #E8F0FE;\n",
              "      --fill-color: #1967D2;\n",
              "      --hover-bg-color: #E2EBFA;\n",
              "      --hover-fill-color: #174EA6;\n",
              "      --disabled-fill-color: #AAA;\n",
              "      --disabled-bg-color: #DDD;\n",
              "  }\n",
              "\n",
              "  [theme=dark] .colab-df-quickchart {\n",
              "      --bg-color: #3B4455;\n",
              "      --fill-color: #D2E3FC;\n",
              "      --hover-bg-color: #434B5C;\n",
              "      --hover-fill-color: #FFFFFF;\n",
              "      --disabled-bg-color: #3B4455;\n",
              "      --disabled-fill-color: #666;\n",
              "  }\n",
              "\n",
              "  .colab-df-quickchart {\n",
              "    background-color: var(--bg-color);\n",
              "    border: none;\n",
              "    border-radius: 50%;\n",
              "    cursor: pointer;\n",
              "    display: none;\n",
              "    fill: var(--fill-color);\n",
              "    height: 32px;\n",
              "    padding: 0;\n",
              "    width: 32px;\n",
              "  }\n",
              "\n",
              "  .colab-df-quickchart:hover {\n",
              "    background-color: var(--hover-bg-color);\n",
              "    box-shadow: 0 1px 2px rgba(60, 64, 67, 0.3), 0 1px 3px 1px rgba(60, 64, 67, 0.15);\n",
              "    fill: var(--button-hover-fill-color);\n",
              "  }\n",
              "\n",
              "  .colab-df-quickchart-complete:disabled,\n",
              "  .colab-df-quickchart-complete:disabled:hover {\n",
              "    background-color: var(--disabled-bg-color);\n",
              "    fill: var(--disabled-fill-color);\n",
              "    box-shadow: none;\n",
              "  }\n",
              "\n",
              "  .colab-df-spinner {\n",
              "    border: 2px solid var(--fill-color);\n",
              "    border-color: transparent;\n",
              "    border-bottom-color: var(--fill-color);\n",
              "    animation:\n",
              "      spin 1s steps(1) infinite;\n",
              "  }\n",
              "\n",
              "  @keyframes spin {\n",
              "    0% {\n",
              "      border-color: transparent;\n",
              "      border-bottom-color: var(--fill-color);\n",
              "      border-left-color: var(--fill-color);\n",
              "    }\n",
              "    20% {\n",
              "      border-color: transparent;\n",
              "      border-left-color: var(--fill-color);\n",
              "      border-top-color: var(--fill-color);\n",
              "    }\n",
              "    30% {\n",
              "      border-color: transparent;\n",
              "      border-left-color: var(--fill-color);\n",
              "      border-top-color: var(--fill-color);\n",
              "      border-right-color: var(--fill-color);\n",
              "    }\n",
              "    40% {\n",
              "      border-color: transparent;\n",
              "      border-right-color: var(--fill-color);\n",
              "      border-top-color: var(--fill-color);\n",
              "    }\n",
              "    60% {\n",
              "      border-color: transparent;\n",
              "      border-right-color: var(--fill-color);\n",
              "    }\n",
              "    80% {\n",
              "      border-color: transparent;\n",
              "      border-right-color: var(--fill-color);\n",
              "      border-bottom-color: var(--fill-color);\n",
              "    }\n",
              "    90% {\n",
              "      border-color: transparent;\n",
              "      border-bottom-color: var(--fill-color);\n",
              "    }\n",
              "  }\n",
              "</style>\n",
              "\n",
              "      <script>\n",
              "        async function quickchart(key) {\n",
              "          const quickchartButtonEl =\n",
              "            document.querySelector('#' + key + ' button');\n",
              "          quickchartButtonEl.disabled = true;  // To prevent multiple clicks.\n",
              "          quickchartButtonEl.classList.add('colab-df-spinner');\n",
              "          try {\n",
              "            const charts = await google.colab.kernel.invokeFunction(\n",
              "                'suggestCharts', [key], {});\n",
              "          } catch (error) {\n",
              "            console.error('Error during call to suggestCharts:', error);\n",
              "          }\n",
              "          quickchartButtonEl.classList.remove('colab-df-spinner');\n",
              "          quickchartButtonEl.classList.add('colab-df-quickchart-complete');\n",
              "        }\n",
              "        (() => {\n",
              "          let quickchartButtonEl =\n",
              "            document.querySelector('#df-380872e6-9950-470f-94c3-47a10437c16f button');\n",
              "          quickchartButtonEl.style.display =\n",
              "            google.colab.kernel.accessAllowed ? 'block' : 'none';\n",
              "        })();\n",
              "      </script>\n",
              "    </div>\n",
              "\n",
              "    </div>\n",
              "  </div>\n"
            ],
            "application/vnd.google.colaboratory.intrinsic+json": {
              "type": "dataframe",
              "variable_name": "loja",
              "summary": "{\n  \"name\": \"loja\",\n  \"rows\": 2359,\n  \"fields\": [\n    {\n      \"column\": \"Produto\",\n      \"properties\": {\n        \"dtype\": \"category\",\n        \"num_unique_values\": 51,\n        \"samples\": [\n          \"Viol\\u00e3o\",\n          \"Bola de basquete\",\n          \"Smartwatch\"\n        ],\n        \"semantic_type\": \"\",\n        \"description\": \"\"\n      }\n    },\n    {\n      \"column\": \"Categoria do Produto\",\n      \"properties\": {\n        \"dtype\": \"category\",\n        \"num_unique_values\": 8,\n        \"samples\": [\n          \"moveis\",\n          \"esporte e lazer\",\n          \"eletronicos\"\n        ],\n        \"semantic_type\": \"\",\n        \"description\": \"\"\n      }\n    },\n    {\n      \"column\": \"Pre\\u00e7o\",\n      \"properties\": {\n        \"dtype\": \"number\",\n        \"std\": 819.5827782539145,\n        \"min\": 10.07,\n        \"max\": 3969.38,\n        \"num_unique_values\": 2315,\n        \"samples\": [\n          446.11,\n          107.31,\n          65.86\n        ],\n        \"semantic_type\": \"\",\n        \"description\": \"\"\n      }\n    },\n    {\n      \"column\": \"Frete\",\n      \"properties\": {\n        \"dtype\": \"number\",\n        \"std\": 43.814183327408166,\n        \"min\": 0.0,\n        \"max\": 214.3770604781,\n        \"num_unique_values\": 2149,\n        \"samples\": [\n          83.815279607,\n          16.069664669,\n          14.0344876928\n        ],\n        \"semantic_type\": \"\",\n        \"description\": \"\"\n      }\n    },\n    {\n      \"column\": \"Data da Compra\",\n      \"properties\": {\n        \"dtype\": \"object\",\n        \"num_unique_values\": 1018,\n        \"samples\": [\n          \"15/09/2022\",\n          \"03/06/2020\",\n          \"06/11/2021\"\n        ],\n        \"semantic_type\": \"\",\n        \"description\": \"\"\n      }\n    },\n    {\n      \"column\": \"Vendedor\",\n      \"properties\": {\n        \"dtype\": \"category\",\n        \"num_unique_values\": 14,\n        \"samples\": [\n          \"Juliana Costa\",\n          \"Mariana Ferreira\",\n          \"Pedro Gomes\"\n        ],\n        \"semantic_type\": \"\",\n        \"description\": \"\"\n      }\n    },\n    {\n      \"column\": \"Local da compra\",\n      \"properties\": {\n        \"dtype\": \"category\",\n        \"num_unique_values\": 26,\n        \"samples\": [\n          \"TO\",\n          \"RN\",\n          \"SP\"\n        ],\n        \"semantic_type\": \"\",\n        \"description\": \"\"\n      }\n    },\n    {\n      \"column\": \"Avalia\\u00e7\\u00e3o da compra\",\n      \"properties\": {\n        \"dtype\": \"number\",\n        \"std\": 1,\n        \"min\": 1,\n        \"max\": 5,\n        \"num_unique_values\": 5,\n        \"samples\": [\n          1,\n          2,\n          5\n        ],\n        \"semantic_type\": \"\",\n        \"description\": \"\"\n      }\n    },\n    {\n      \"column\": \"Tipo de pagamento\",\n      \"properties\": {\n        \"dtype\": \"category\",\n        \"num_unique_values\": 4,\n        \"samples\": [\n          \"boleto\",\n          \"cartao_debito\",\n          \"cartao_credito\"\n        ],\n        \"semantic_type\": \"\",\n        \"description\": \"\"\n      }\n    },\n    {\n      \"column\": \"Quantidade de parcelas\",\n      \"properties\": {\n        \"dtype\": \"number\",\n        \"std\": 2,\n        \"min\": 1,\n        \"max\": 24,\n        \"num_unique_values\": 15,\n        \"samples\": [\n          7,\n          14,\n          8\n        ],\n        \"semantic_type\": \"\",\n        \"description\": \"\"\n      }\n    },\n    {\n      \"column\": \"lat\",\n      \"properties\": {\n        \"dtype\": \"number\",\n        \"std\": 5.372399916530833,\n        \"min\": -30.17,\n        \"max\": 1.41,\n        \"num_unique_values\": 26,\n        \"samples\": [\n          -9.46,\n          -5.81,\n          -22.19\n        ],\n        \"semantic_type\": \"\",\n        \"description\": \"\"\n      }\n    },\n    {\n      \"column\": \"lon\",\n      \"properties\": {\n        \"dtype\": \"number\",\n        \"std\": 4.183180020544179,\n        \"min\": -70.55,\n        \"max\": -36.59,\n        \"num_unique_values\": 26,\n        \"samples\": [\n          -48.26,\n          -36.59,\n          -48.79\n        ],\n        \"semantic_type\": \"\",\n        \"description\": \"\"\n      }\n    }\n  ]\n}"
            }
          },
          "metadata": {},
          "execution_count": 2
        }
      ],
      "source": [
        "import pandas as pd\n",
        "\n",
        "url = \"https://raw.githubusercontent.com/alura-es-cursos/challenge1-data-science/refs/heads/main/base-de-dados-challenge-1/loja_1.csv\"\n",
        "url2 = \"https://raw.githubusercontent.com/alura-es-cursos/challenge1-data-science/refs/heads/main/base-de-dados-challenge-1/loja_2.csv\"\n",
        "url3 = \"https://raw.githubusercontent.com/alura-es-cursos/challenge1-data-science/refs/heads/main/base-de-dados-challenge-1/loja_3.csv\"\n",
        "url4 = \"https://raw.githubusercontent.com/alura-es-cursos/challenge1-data-science/refs/heads/main/base-de-dados-challenge-1/loja_4.csv\"\n",
        "\n",
        "loja = pd.read_csv(url)\n",
        "loja2 = pd.read_csv(url2)\n",
        "loja3 = pd.read_csv(url3)\n",
        "loja4 = pd.read_csv(url4)\n",
        "\n",
        "loja.head()"
      ]
    },
    {
      "cell_type": "markdown",
      "source": [
        "#1. Análise do faturamento\n"
      ],
      "metadata": {
        "id": "X62IW3KFUIYm"
      }
    },
    {
      "cell_type": "code",
      "source": [
        "faturamento_loja = sum(loja['Preço'])\n",
        "print(\"O faturamento da 1ª loja:\",faturamento_loja)\n",
        "\n",
        "faturamento_loja2 = sum(loja2['Preço'])\n",
        "print(\"O faturamento da 2ª loja:\",faturamento_loja2)"
      ],
      "metadata": {
        "id": "xykobSftV64I",
        "colab": {
          "base_uri": "https://localhost:8080/"
        },
        "outputId": "d01d8695-caee-4cf4-eb05-03b59091923f"
      },
      "execution_count": 3,
      "outputs": [
        {
          "output_type": "stream",
          "name": "stdout",
          "text": [
            "O faturamento da 1ª loja: 1534509.120000001\n",
            "O faturamento da 2ª loja: 1488459.059999997\n"
          ]
        }
      ]
    },
    {
      "cell_type": "code",
      "source": [
        "faturamento_loja3 = sum(loja3['Preço'])\n",
        "print(\"O faturamento da 3ª loja:\",faturamento_loja3)\n",
        "\n",
        "faturamento_loja4 = sum(loja4['Preço'])\n",
        "print(\"O faturamento da 4ª loja:\",faturamento_loja4)"
      ],
      "metadata": {
        "id": "KDyr8E71V3m-",
        "colab": {
          "base_uri": "https://localhost:8080/"
        },
        "outputId": "37f04daa-705f-4458-f187-464c1a94d9bf"
      },
      "execution_count": 4,
      "outputs": [
        {
          "output_type": "stream",
          "name": "stdout",
          "text": [
            "O faturamento da 3ª loja: 1464025.0300000003\n",
            "O faturamento da 4ª loja: 1384497.5800000026\n"
          ]
        }
      ]
    },
    {
      "cell_type": "markdown",
      "source": [
        "# 2. Vendas por Categoria\n"
      ],
      "metadata": {
        "id": "2V_vcAPzWZmR"
      }
    },
    {
      "cell_type": "code",
      "source": [
        "lista_categorias = list(dict.fromkeys(loja['Categoria do Produto']))\n",
        "print(lista_categorias)"
      ],
      "metadata": {
        "colab": {
          "base_uri": "https://localhost:8080/"
        },
        "id": "REDSo1HB8cxX",
        "outputId": "1393dd53-df05-4b98-df3e-56325830131a"
      },
      "execution_count": 5,
      "outputs": [
        {
          "output_type": "stream",
          "name": "stdout",
          "text": [
            "['eletronicos', 'moveis', 'brinquedos', 'eletrodomesticos', 'utilidades domesticas', 'esporte e lazer', 'livros', 'instrumentos musicais']\n"
          ]
        }
      ]
    },
    {
      "cell_type": "code",
      "source": [
        "soma_categorias = loja.groupby('Categoria do Produto')['Preço'].sum()\n",
        "categoria_mais_popular = soma_categorias.idxmax()\n",
        "print(soma_categorias)\n",
        "print(\"Categoria mais popular:\", categoria_mais_popular,\"\\n\")\n",
        "\n",
        "soma_categorias2 = loja2.groupby('Categoria do Produto')['Preço'].sum()\n",
        "categoria_mais_popular2 = soma_categorias2.idxmax()\n",
        "print(soma_categorias2)\n",
        "print(\"Categoria mais popular:\", categoria_mais_popular2,\"\\n\")"
      ],
      "metadata": {
        "id": "A34YupIuYhfF",
        "colab": {
          "base_uri": "https://localhost:8080/"
        },
        "outputId": "bd4b4872-c14b-4bb0-c1fb-9aef0c123db9"
      },
      "execution_count": 6,
      "outputs": [
        {
          "output_type": "stream",
          "name": "stdout",
          "text": [
            "Categoria do Produto\n",
            "brinquedos                23993.78\n",
            "eletrodomesticos         484913.36\n",
            "eletronicos              572659.23\n",
            "esporte e lazer           52387.55\n",
            "instrumentos musicais    121731.69\n",
            "livros                    11713.92\n",
            "moveis                   250178.11\n",
            "utilidades domesticas     16931.48\n",
            "Name: Preço, dtype: float64\n",
            "Categoria mais popular: eletronicos \n",
            "\n",
            "Categoria do Produto\n",
            "brinquedos                21262.21\n",
            "eletrodomesticos         464758.13\n",
            "eletronicos              547773.71\n",
            "esporte e lazer           46326.09\n",
            "instrumentos musicais    139987.03\n",
            "livros                    13454.35\n",
            "moveis                   235234.68\n",
            "utilidades domesticas     19662.86\n",
            "Name: Preço, dtype: float64\n",
            "Categoria mais popular: eletronicos \n",
            "\n"
          ]
        }
      ]
    },
    {
      "cell_type": "code",
      "source": [
        "soma_categorias3 = loja3.groupby('Categoria do Produto')['Preço'].sum()\n",
        "categoria_mais_popular3 = soma_categorias3.idxmax()\n",
        "print(soma_categorias3)\n",
        "print(\"Categoria mais popular:\", categoria_mais_popular3,\"\\n\")\n",
        "\n",
        "soma_categorias4 = loja4.groupby('Categoria do Produto')['Preço'].sum()\n",
        "categoria_mais_popular4 = soma_categorias4.idxmax()\n",
        "print(soma_categorias4)\n",
        "print(\"Categoria mais popular:\", categoria_mais_popular4,\"\\n\")"
      ],
      "metadata": {
        "id": "yZR6cOjXYSk1",
        "colab": {
          "base_uri": "https://localhost:8080/"
        },
        "outputId": "f6182f9c-bfb9-458b-dee7-5ee7ebd9d7e8"
      },
      "execution_count": 7,
      "outputs": [
        {
          "output_type": "stream",
          "name": "stdout",
          "text": [
            "Categoria do Produto\n",
            "brinquedos                25869.20\n",
            "eletrodomesticos         438984.89\n",
            "eletronicos              547699.92\n",
            "esporte e lazer           47456.10\n",
            "instrumentos musicais    103174.45\n",
            "livros                    12664.70\n",
            "moveis                   268095.56\n",
            "utilidades domesticas     20080.21\n",
            "Name: Preço, dtype: float64\n",
            "Categoria mais popular: eletronicos \n",
            "\n",
            "Categoria do Produto\n",
            "brinquedos                27015.67\n",
            "eletrodomesticos         377680.65\n",
            "eletronicos              545966.86\n",
            "esporte e lazer           44465.65\n",
            "instrumentos musicais    100136.50\n",
            "livros                    12427.77\n",
            "moveis                   256705.65\n",
            "utilidades domesticas     20098.83\n",
            "Name: Preço, dtype: float64\n",
            "Categoria mais popular: eletronicos \n",
            "\n"
          ]
        }
      ]
    },
    {
      "cell_type": "markdown",
      "source": [
        "# 3. Média de Avaliação das Lojas"
      ],
      "metadata": {
        "id": "Rq6tU_xSY3jk"
      }
    },
    {
      "cell_type": "code",
      "source": [
        "soma_avaliacao = loja['Avaliação da compra'].sum()\n",
        "quant_total = len(loja)\n",
        "media_avaliacao = soma_avaliacao / quant_total\n",
        "print(f\"Média de avaliação da loja:{media_avaliacao}\")\n",
        "\n",
        "soma_avaliacao2 = loja2['Avaliação da compra'].sum()\n",
        "quant_total2 = len(loja2)\n",
        "media_avaliacao2 = soma_avaliacao2 / quant_total2\n",
        "print(f\"Média de avaliação da loja:{media_avaliacao2}\")"
      ],
      "metadata": {
        "id": "bh3jjjJwY5MU",
        "colab": {
          "base_uri": "https://localhost:8080/"
        },
        "outputId": "39126ab2-74f7-4c78-9b65-e0043bc69aa0"
      },
      "execution_count": 8,
      "outputs": [
        {
          "output_type": "stream",
          "name": "stdout",
          "text": [
            "Média de avaliação da loja:3.976685036032217\n",
            "Média de avaliação da loja:4.037303942348453\n"
          ]
        }
      ]
    },
    {
      "cell_type": "code",
      "source": [
        "soma_avaliacao3 = loja3['Avaliação da compra'].sum()\n",
        "quant_total3 = len(loja3)\n",
        "media_avaliacao3 = soma_avaliacao3 / quant_total3\n",
        "print(f\"Média de avaliação da loja:{media_avaliacao3}\")\n",
        "\n",
        "soma_avaliacao4 = loja4['Avaliação da compra'].sum()\n",
        "quant_total4 = len(loja4)\n",
        "media_avaliacao4 = soma_avaliacao4 / quant_total4\n",
        "print(f\"Média de avaliação da loja:{media_avaliacao4}\")"
      ],
      "metadata": {
        "id": "I0KkjPoTY88F",
        "colab": {
          "base_uri": "https://localhost:8080/"
        },
        "outputId": "fe8f9a0e-9d6f-4d7a-d7f9-0f601d95e5f9"
      },
      "execution_count": 9,
      "outputs": [
        {
          "output_type": "stream",
          "name": "stdout",
          "text": [
            "Média de avaliação da loja:4.048325561678677\n",
            "Média de avaliação da loja:3.9957591178965224\n"
          ]
        }
      ]
    },
    {
      "cell_type": "markdown",
      "source": [
        "# 4. Produtos Mais e Menos Vendidos"
      ],
      "metadata": {
        "id": "DmNp1KPBZCm-"
      }
    },
    {
      "cell_type": "code",
      "source": [
        "quant_vendidas_produtos = loja['Produto'].value_counts()\n",
        "produto_mais_vendido = quant_vendidas_produtos.idxmax()\n",
        "quant_produto_mais_vendido = max(quant_vendidas_produtos)\n",
        "\n",
        "produto_menos_vendido = quant_vendidas_produtos.idxmin()\n",
        "quant_produto_menos_vendido = min(quant_vendidas_produtos)\n",
        "\n",
        "print(f\"Produto mais vendido: {produto_mais_vendido} com {quant_produto_mais_vendido}\")\n",
        "print(f\"Produto menos vendido: {produto_menos_vendido} com {quant_produto_menos_vendido}\")\n",
        "\n",
        "\n",
        "quant_vendidas_produtos2 = loja2['Produto'].value_counts()\n",
        "produto_mais_vendido2 = quant_vendidas_produtos2.idxmax()\n",
        "quant_produto_mais_vendido2 = max(quant_vendidas_produtos2)\n",
        "\n",
        "produto_menos_vendido2 = quant_vendidas_produtos2.idxmin()\n",
        "quant_produto_menos_vendido2 = min(quant_vendidas_produtos2)\n",
        "\n",
        "print(f\"\\n\\nProduto mais vendido: {produto_mais_vendido2} com {quant_produto_mais_vendido2}\")\n",
        "print(f\"Produto menos vendido: {produto_menos_vendido2} com {quant_produto_menos_vendido2}\")"
      ],
      "metadata": {
        "id": "qoyjqijQZHfF",
        "colab": {
          "base_uri": "https://localhost:8080/"
        },
        "outputId": "12916cc6-cec9-4581-9372-bc450220e2ed"
      },
      "execution_count": 10,
      "outputs": [
        {
          "output_type": "stream",
          "name": "stdout",
          "text": [
            "Produto mais vendido: Micro-ondas com 60\n",
            "Produto menos vendido: Headset com 33\n",
            "\n",
            "\n",
            "Produto mais vendido: Iniciando em programação com 65\n",
            "Produto menos vendido: Jogo de tabuleiro com 32\n"
          ]
        }
      ]
    },
    {
      "cell_type": "code",
      "source": [
        "quant_vendidas_produtos3 = loja3['Produto'].value_counts()\n",
        "produto_mais_vendido3 = quant_vendidas_produtos3.idxmax()\n",
        "quant_produto_mais_vendido3 = max(quant_vendidas_produtos3)\n",
        "\n",
        "produto_menos_vendido3 = quant_vendidas_produtos3.idxmin()\n",
        "quant_produto_menos_vendido3 = min(quant_vendidas_produtos3)\n",
        "\n",
        "print(f\"Produto mais vendido: {produto_mais_vendido3} com {quant_produto_mais_vendido3}\")\n",
        "print(f\"Produto menos vendido: {produto_menos_vendido3} com {quant_produto_menos_vendido3}\")\n",
        "\n",
        "\n",
        "quant_vendidas_produtos4 = loja4['Produto'].value_counts()\n",
        "produto_mais_vendido4 = quant_vendidas_produtos4.idxmax()\n",
        "quant_produto_mais_vendido4 = max(quant_vendidas_produtos4)\n",
        "\n",
        "produto_menos_vendido4 = quant_vendidas_produtos4.idxmin()\n",
        "quant_produto_menos_vendido4 = min(quant_vendidas_produtos4)\n",
        "\n",
        "print(f\"\\n\\nProduto mais vendido: {produto_mais_vendido4} com {quant_produto_mais_vendido4}\")\n",
        "print(f\"Produto menos vendido: {produto_menos_vendido4} com {quant_produto_menos_vendido4}\")"
      ],
      "metadata": {
        "id": "0Sw3sd4IZIGW",
        "colab": {
          "base_uri": "https://localhost:8080/"
        },
        "outputId": "e04a4eb3-7bb3-49d5-e5eb-06a346f0b59b"
      },
      "execution_count": 11,
      "outputs": [
        {
          "output_type": "stream",
          "name": "stdout",
          "text": [
            "Produto mais vendido: Kit banquetas com 57\n",
            "Produto menos vendido: Blocos de montar com 35\n",
            "\n",
            "\n",
            "Produto mais vendido: Cama box com 62\n",
            "Produto menos vendido: Guitarra com 33\n"
          ]
        }
      ]
    },
    {
      "cell_type": "markdown",
      "source": [
        "# 5. Frete Médio por Loja\n"
      ],
      "metadata": {
        "id": "Fl0cGi3bZKqU"
      }
    },
    {
      "cell_type": "code",
      "source": [
        "frete_total = sum(loja['Frete'])\n",
        "media_frete = frete_total / quant_total\n",
        "print(f\"Frete médio: {media_frete}\")\n",
        "\n",
        "frete_total2 = sum(loja2['Frete'])\n",
        "media_frete2 = frete_total2 / quant_total2\n",
        "print(f\"Frete médio: {media_frete2}\")"
      ],
      "metadata": {
        "id": "S2JeaCykZNy9",
        "colab": {
          "base_uri": "https://localhost:8080/"
        },
        "outputId": "55264b9d-4238-4cef-fd72-0bd4bac6e600"
      },
      "execution_count": 12,
      "outputs": [
        {
          "output_type": "stream",
          "name": "stdout",
          "text": [
            "Frete médio: 34.6918049155114\n",
            "Frete médio: 33.62194065817933\n"
          ]
        }
      ]
    },
    {
      "cell_type": "code",
      "source": [
        "frete_total3 = sum(loja3['Frete'])\n",
        "media_frete3 = frete_total3 / quant_total3\n",
        "print(f\"Frete médio: {media_frete3}\")\n",
        "\n",
        "frete_total4 = sum(loja4['Frete'])\n",
        "media_frete4 = frete_total4 / quant_total4\n",
        "print(f\"Frete médio: {media_frete4}\")"
      ],
      "metadata": {
        "id": "0tSdCie9ZQlt",
        "colab": {
          "base_uri": "https://localhost:8080/"
        },
        "outputId": "23b7f3d3-7886-4182-9a6a-ab5b16d4e0e2"
      },
      "execution_count": 13,
      "outputs": [
        {
          "output_type": "stream",
          "name": "stdout",
          "text": [
            "Frete médio: 33.074464274117446\n",
            "Frete médio: 31.27899708184175\n"
          ]
        }
      ]
    },
    {
      "cell_type": "markdown",
      "source": [
        "# 6. Gerando gráfico\n"
      ],
      "metadata": {
        "id": "8sGR0yZlNQpp"
      }
    },
    {
      "cell_type": "code",
      "source": [
        "pip install matplotlib"
      ],
      "metadata": {
        "colab": {
          "base_uri": "https://localhost:8080/"
        },
        "id": "Z-cHgbW7MONo",
        "outputId": "02e43b9d-1d7c-479a-9e49-6d4d9c817d1b"
      },
      "execution_count": 14,
      "outputs": [
        {
          "output_type": "stream",
          "name": "stdout",
          "text": [
            "Requirement already satisfied: matplotlib in /usr/local/lib/python3.11/dist-packages (3.10.0)\n",
            "Requirement already satisfied: contourpy>=1.0.1 in /usr/local/lib/python3.11/dist-packages (from matplotlib) (1.3.2)\n",
            "Requirement already satisfied: cycler>=0.10 in /usr/local/lib/python3.11/dist-packages (from matplotlib) (0.12.1)\n",
            "Requirement already satisfied: fonttools>=4.22.0 in /usr/local/lib/python3.11/dist-packages (from matplotlib) (4.58.0)\n",
            "Requirement already satisfied: kiwisolver>=1.3.1 in /usr/local/lib/python3.11/dist-packages (from matplotlib) (1.4.8)\n",
            "Requirement already satisfied: numpy>=1.23 in /usr/local/lib/python3.11/dist-packages (from matplotlib) (2.0.2)\n",
            "Requirement already satisfied: packaging>=20.0 in /usr/local/lib/python3.11/dist-packages (from matplotlib) (24.2)\n",
            "Requirement already satisfied: pillow>=8 in /usr/local/lib/python3.11/dist-packages (from matplotlib) (11.2.1)\n",
            "Requirement already satisfied: pyparsing>=2.3.1 in /usr/local/lib/python3.11/dist-packages (from matplotlib) (3.2.3)\n",
            "Requirement already satisfied: python-dateutil>=2.7 in /usr/local/lib/python3.11/dist-packages (from matplotlib) (2.9.0.post0)\n",
            "Requirement already satisfied: six>=1.5 in /usr/local/lib/python3.11/dist-packages (from python-dateutil>=2.7->matplotlib) (1.17.0)\n"
          ]
        }
      ]
    },
    {
      "cell_type": "code",
      "source": [
        "import matplotlib.pyplot as plt"
      ],
      "metadata": {
        "id": "dcr3riMdNCw9"
      },
      "execution_count": 15,
      "outputs": []
    },
    {
      "cell_type": "code",
      "source": [
        "plt.title('Faturamento de cada loja')\n",
        "plt.ylabel('Faturamento em Milhões de R$')\n",
        "plt.bar(('Loja 1', 'Loja 2', 'Loja 3','Loja 4'), (faturamento_loja, faturamento_loja2,faturamento_loja3, faturamento_loja4))\n",
        "plt.ylim(1200000,1700000)\n",
        "plt.show()"
      ],
      "metadata": {
        "colab": {
          "base_uri": "https://localhost:8080/",
          "height": 452
        },
        "id": "CykXuBL5N2N3",
        "outputId": "9c7517a2-deb3-49cc-fe85-62a9bbb0fe81"
      },
      "execution_count": 16,
      "outputs": [
        {
          "output_type": "display_data",
          "data": {
            "text/plain": [
              "<Figure size 640x480 with 1 Axes>"
            ],
            "image/png": "[encoded data removed]"
          },
          "metadata": {}
        }
      ]
    },
    {
      "cell_type": "code",
      "source": [
        "plt.title('Avaliações')\n",
        "plt.ylabel('Número médio de estrelas')\n",
        "plt.plot(('Loja 1', 'Loja 2', 'Loja 3','Loja 4'), (media_avaliacao, media_avaliacao2,media_avaliacao3, media_avaliacao4))\n",
        "plt.show()"
      ],
      "metadata": {
        "colab": {
          "base_uri": "https://localhost:8080/",
          "height": 452
        },
        "id": "FN9sMf0oTsIk",
        "outputId": "fa05fabd-20b2-42c4-fc5d-6c4cf3bd27d6"
      },
      "execution_count": 17,
      "outputs": [
        {
          "output_type": "display_data",
          "data": {
            "text/plain": [
              "<Figure size 640x480 with 1 Axes>"
            ],
            "image/png": "[encoded data removed]"
          },
          "metadata": {}
        }
      ]
    },
    {
      "cell_type": "code",
      "source": [
        "plt.title('Produtos mais vendidos')\n",
        "plt.xlabel('Quantidade do Produto mais vendido')\n",
        "plt.xlim(55,70)\n",
        "plt.barh(('Loja 1', 'Loja 2', 'Loja 3','Loja 4'), (quant_produto_mais_vendido, quant_produto_mais_vendido2, quant_produto_mais_vendido3, quant_produto_mais_vendido4))\n",
        "plt.show()"
      ],
      "metadata": {
        "colab": {
          "base_uri": "https://localhost:8080/",
          "height": 472
        },
        "id": "cLn4_zhDWsKg",
        "outputId": "ef75a288-8936-4842-844c-b8cfab2daeeb"
      },
      "execution_count": 18,
      "outputs": [
        {
          "output_type": "display_data",
          "data": {
            "text/plain": [
              "<Figure size 640x480 with 1 Axes>"
            ],
            "image/png": "[encoded data removed]"
          },
          "metadata": {}
        }
      ]
    },
    {
      "cell_type": "markdown",
      "source": [
        "# Relatório"
      ],
      "metadata": {
        "id": "wHTKCH5SsgmY"
      }
    },
    {
      "cell_type": "markdown",
      "source": [
        "## **Faturamento Total**\n",
        "--------------------------------------------------------------------------------\n",
        "> ### **Loja 1**\n",
        "> - Faturamento: 1534509.120000001\n",
        "> - Categoria do produto mais vendido: Eletrônicos - 572659.23\n",
        "> - Categoria do produto menos vendido: Livros - 11713.92\n",
        "> - Média de avaliação da loja: 3.976685036032217\n",
        "> - Produto mais vendido: Micro-ondas com 60\n",
        "> - Produto menos vendido: Headset com 33\n",
        "> - Frete médio: 34.6918049155114\n",
        "--------------------------------------------------------------------------------\n",
        "> ### **Loja 2**\n",
        "> - Faturamento: 1488459.059999997\n",
        "> - Categoria do produto mais vendido: Eletrônicos - 547773.71\n",
        "> - Categoria do produto menos vendido: Livros - 13454.35\n",
        "> - Média de avaliação da loja: 4.037303942348453\n",
        "> - Produto mais vendido: Iniciando em programação com 65\n",
        "> - Produto menos vendido: Jogo de tabuleiro com 32\n",
        "> - Frete médio: 33.62194065817933\n",
        "--------------------------------------------------------------------------------\n",
        "> ### **Loja 3**\n",
        "> - Faturamento: 1464025.0300000003\n",
        "> - Categoria do produto mais vendido: Eletrônicos - 547699.92\n",
        "> - Categoria do produto menos vendido: Livros - 12664.70\n",
        "> - Média de avaliação da loja: 4.048325561678677\n",
        "> - Produto mais vendido: Kit banquetas com 57\n",
        "> - Produto menos vendido: Blocos de montar com 35\n",
        "> - Frete médio: 33.074464274117446\n",
        "--------------------------------------------------------------------------------\n",
        "> ### **Loja 4**\n",
        "> - Faturamento: 1384497.5800000026\n",
        "> - Categoria do produto mais vendido: Eletrônicos - 545966.86\n",
        "> - Categoria do produto menos vendido: Livros - 12427.77\n",
        "> - Média de avaliação da loja: 3.9957591178965224\n",
        "> - Produto mais vendido: Cama box com 62\n",
        "> - Produto menos vendido: Guitarra com 33\n",
        "> - Frete médio: 31.27899708184175\n",
        "\n",
        "=================================================================================================================\n",
        "\n",
        "## **Loja indicada a realizar a venda:**\n",
        "A Loja 4 é a unidade com o menor **faturamento total**, alcançando **_R$ 1.384.497,58_**, valor inferior ao das demais lojas, mesmo tendo um desempenho similar na venda de eletrônicos — a categoria de maior destaque em todas as unidades. **_Além disso, apresenta uma das piores médias de avaliação dos clientes (3,99)_**, o que sugere possíveis deficiências na experiência do consumidor, seja em atendimento, logística ou qualidade percebida.\n",
        "\n",
        "**Mesmo com um produto mais vendido relativamente bem posicionado (Cama box com 62 unidades vendidas**, o desempenho geral da loja não se traduz em receita ou reputação superiores. Seu frete médio é o mais baixo (R$ 31,28), o que pode indicar um esforço para atrair clientes via redução de custos, mas que não tem sido suficiente para alavancar os resultados.\n",
        "\n",
        "Diante desses fatores — **_menor faturamento, avaliação inferior e retorno abaixo do esperado — a Loja 4_** é a mais indicada para ser vendida ou descontinuada, visando o redirecionamento estratégico de recursos para unidades com melhor desempenho.\n"
      ],
      "metadata": {
        "id": "UDEYKiK_tJDD"
      }
    }
  ]
}